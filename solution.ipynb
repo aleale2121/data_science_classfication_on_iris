{
 "cells": [
  {
   "cell_type": "markdown",
   "id": "c6567e10",
   "metadata": {},
   "source": [
    "# cassfication"
   ]
  },
  {
   "cell_type": "code",
   "execution_count": 1,
   "id": "896c0931",
   "metadata": {},
   "outputs": [],
   "source": [
    "import pandas as pd\n",
    "import numpy as np\n",
    "import matplotlib.pyplot as plt\n",
    "import seaborn as sns\n",
    "from numpy import genfromtxt, zeros\n",
    "%matplotlib inline\n",
    "\n",
    "from sklearn.model_selection import train_test_split\n",
    "\n",
    "from sklearn.ensemble import RandomForestClassifier\n",
    "from sklearn.tree import  DecisionTreeClassifier\n",
    "from sklearn.neighbors import KNeighborsClassifier\n",
    "from sklearn.linear_model import LogisticRegression\n",
    "from sklearn.discriminant_analysis import LinearDiscriminantAnalysis\n",
    "from sklearn.discriminant_analysis import QuadraticDiscriminantAnalysis\n",
    "from sklearn.ensemble import AdaBoostClassifier\n",
    "\n",
    "from sklearn import metrics\n",
    "from sklearn.metrics import classification_report,confusion_matrix\n",
    "from sklearn.metrics import roc_auc_score,plot_roc_curve,auc,roc_curve"
   ]
  },
  {
   "cell_type": "code",
   "execution_count": 2,
   "id": "a8c56299",
   "metadata": {},
   "outputs": [],
   "source": [
    "iris_data = pd.read_csv('iris.csv')"
   ]
  },
  {
   "cell_type": "code",
   "execution_count": 3,
   "id": "3b145155",
   "metadata": {},
   "outputs": [],
   "source": [
    "data=pd.DataFrame({\n",
    "    'sepal length':iris_data.iloc[:,0],\n",
    "    'sepal width':iris_data.iloc[:,1],\n",
    "    'petal length':iris_data.iloc[:,2],\n",
    "    'petal width':iris_data.iloc[:,3],\n",
    "    'species':iris_data.iloc[:,4],\n",
    "})"
   ]
  },
  {
   "cell_type": "code",
   "execution_count": 4,
   "id": "44b90f41",
   "metadata": {},
   "outputs": [
    {
     "data": {
      "text/html": [
       "<div>\n",
       "<style scoped>\n",
       "    .dataframe tbody tr th:only-of-type {\n",
       "        vertical-align: middle;\n",
       "    }\n",
       "\n",
       "    .dataframe tbody tr th {\n",
       "        vertical-align: top;\n",
       "    }\n",
       "\n",
       "    .dataframe thead th {\n",
       "        text-align: right;\n",
       "    }\n",
       "</style>\n",
       "<table border=\"1\" class=\"dataframe\">\n",
       "  <thead>\n",
       "    <tr style=\"text-align: right;\">\n",
       "      <th></th>\n",
       "      <th>sepal length</th>\n",
       "      <th>sepal width</th>\n",
       "      <th>petal length</th>\n",
       "      <th>petal width</th>\n",
       "      <th>species</th>\n",
       "    </tr>\n",
       "  </thead>\n",
       "  <tbody>\n",
       "    <tr>\n",
       "      <th>0</th>\n",
       "      <td>4.9</td>\n",
       "      <td>3.0</td>\n",
       "      <td>1.4</td>\n",
       "      <td>0.2</td>\n",
       "      <td>setosa</td>\n",
       "    </tr>\n",
       "    <tr>\n",
       "      <th>1</th>\n",
       "      <td>4.7</td>\n",
       "      <td>3.2</td>\n",
       "      <td>1.3</td>\n",
       "      <td>0.2</td>\n",
       "      <td>setosa</td>\n",
       "    </tr>\n",
       "    <tr>\n",
       "      <th>2</th>\n",
       "      <td>4.6</td>\n",
       "      <td>3.1</td>\n",
       "      <td>1.5</td>\n",
       "      <td>0.2</td>\n",
       "      <td>setosa</td>\n",
       "    </tr>\n",
       "    <tr>\n",
       "      <th>3</th>\n",
       "      <td>5.0</td>\n",
       "      <td>3.6</td>\n",
       "      <td>1.4</td>\n",
       "      <td>0.2</td>\n",
       "      <td>setosa</td>\n",
       "    </tr>\n",
       "    <tr>\n",
       "      <th>4</th>\n",
       "      <td>5.4</td>\n",
       "      <td>3.9</td>\n",
       "      <td>1.7</td>\n",
       "      <td>0.4</td>\n",
       "      <td>setosa</td>\n",
       "    </tr>\n",
       "  </tbody>\n",
       "</table>\n",
       "</div>"
      ],
      "text/plain": [
       "   sepal length  sepal width  petal length  petal width species\n",
       "0           4.9          3.0           1.4          0.2  setosa\n",
       "1           4.7          3.2           1.3          0.2  setosa\n",
       "2           4.6          3.1           1.5          0.2  setosa\n",
       "3           5.0          3.6           1.4          0.2  setosa\n",
       "4           5.4          3.9           1.7          0.4  setosa"
      ]
     },
     "execution_count": 4,
     "metadata": {},
     "output_type": "execute_result"
    }
   ],
   "source": [
    "data.head()"
   ]
  },
  {
   "cell_type": "code",
   "execution_count": 5,
   "id": "23144f53",
   "metadata": {},
   "outputs": [],
   "source": [
    "X=data[['sepal length', 'sepal width', 'petal length', 'petal width']]  # Features\n",
    "y=data['species']  \n",
    "\n",
    "t = zeros(len(y))\n",
    "t[y == 'setosa'] = 1\n",
    "t[y == 'versicolor'] = 2\n",
    "t[y == 'virginica'] = 3\n",
    "\n",
    "X_train, X_test, y_train, y_test = train_test_split(X, t, test_size=0.5) # 50% training and 50% test"
   ]
  },
  {
   "cell_type": "code",
   "execution_count": 39,
   "id": "b2d5e9f4",
   "metadata": {},
   "outputs": [],
   "source": [
    "def calculate_roc_values(fpr,tpr,roc_auc,prob):\n",
    "    for i in range(3):\n",
    "        fpr[i], tpr[i], _ = roc_curve(y_test, prob[:, i],pos_label=i+1)\n",
    "        roc_auc[i] = auc(fpr[i], tpr[i])\n",
    "        \n",
    "def plot_roc(prob,title):\n",
    "    dic_fpr = dict()\n",
    "    dic_tpr = dict()\n",
    "    dic_roc_auc = dict()\n",
    "    colors = ['green', 'yellow', 'red']\n",
    "    labels = ['setosa', 'versicolor','virginica']\n",
    "    calculate_roc_values(dic_fpr,dic_tpr,dic_roc_auc,prob)\n",
    "    \n",
    "    plt.style.use('seaborn')\n",
    "    for i in range(3):\n",
    "        plt.plot(dic_fpr[i], dic_tpr[i], linestyle='--',color=colors[i], label=labels[i])\n",
    "    \n",
    "\n",
    "    plt.plot([0, 1], [0, 1], color='blue', lw=2, linestyle='--')\n",
    "    plt.title('{} ROC'.format(title))\n",
    "    plt.xlabel('False Positive Rate')\n",
    "    plt.ylabel('True Positive rate')\n",
    "    plt.legend(loc='best')\n",
    "    plt.savefig('ROC',dpi=300)\n",
    "    plt.show();\n",
    "                                                             "
   ]
  },
  {
   "cell_type": "markdown",
   "id": "fa56e47d",
   "metadata": {},
   "source": [
    "# Random Forest"
   ]
  },
  {
   "cell_type": "markdown",
   "id": "f22dccbc",
   "metadata": {},
   "source": [
    "##### prediction"
   ]
  },
  {
   "cell_type": "code",
   "execution_count": 7,
   "id": "cd0e1dc1",
   "metadata": {},
   "outputs": [
    {
     "name": "stdout",
     "output_type": "stream",
     "text": [
      "Random Forest Prediction\n",
      "[3. 3. 2. 3. 1. 1. 3. 3. 3. 3. 2. 1. 3. 1. 2. 1. 3. 1. 2. 3. 1. 1. 2. 3.\n",
      " 2. 3. 1. 2. 3. 2. 2. 3. 3. 2. 1. 1. 1. 3. 1. 1. 3. 2. 1. 3. 2. 1. 3. 3.\n",
      " 3. 2. 1. 1. 3. 3. 2. 1. 2. 3. 2. 2. 3. 2. 3. 1. 2. 1. 3. 1. 2. 2. 3. 1.\n",
      " 1. 3. 2.]\n"
     ]
    }
   ],
   "source": [
    "rf_clf=RandomForestClassifier(n_estimators=100)\n",
    "rf_clf.fit(X_train,y_train)\n",
    "rf_y_prediction=rf_clf.predict(X_test)\n",
    "print(\"Random Forest Prediction\")\n",
    "print(rf_y_prediction)"
   ]
  },
  {
   "cell_type": "code",
   "execution_count": 8,
   "id": "8093154f",
   "metadata": {},
   "outputs": [
    {
     "name": "stdout",
     "output_type": "stream",
     "text": [
      "Random Forest Accuracy: 0.9466666666666667\n"
     ]
    }
   ],
   "source": [
    "print(\"Random Forest Accuracy:\",metrics.accuracy_score(y_test, rf_y_prediction))"
   ]
  },
  {
   "cell_type": "code",
   "execution_count": 9,
   "id": "a2d0cdcd",
   "metadata": {},
   "outputs": [
    {
     "name": "stdout",
     "output_type": "stream",
     "text": [
      "[3.]\n"
     ]
    }
   ],
   "source": [
    "print(rf_clf.predict([[3, 5, 4, 2]]))"
   ]
  },
  {
   "cell_type": "markdown",
   "id": "4e560b79",
   "metadata": {},
   "source": [
    "##### clasfication report"
   ]
  },
  {
   "cell_type": "code",
   "execution_count": 10,
   "id": "7abf7cbf",
   "metadata": {},
   "outputs": [
    {
     "name": "stdout",
     "output_type": "stream",
     "text": [
      "              precision    recall  f1-score   support\n",
      "\n",
      "         1.0       1.00      1.00      1.00        24\n",
      "         2.0       1.00      0.85      0.92        26\n",
      "         3.0       0.86      1.00      0.93        25\n",
      "\n",
      "    accuracy                           0.95        75\n",
      "   macro avg       0.95      0.95      0.95        75\n",
      "weighted avg       0.95      0.95      0.95        75\n",
      "\n"
     ]
    }
   ],
   "source": [
    "print(classification_report(y_test,rf_y_prediction))"
   ]
  },
  {
   "cell_type": "markdown",
   "id": "345c3dde",
   "metadata": {},
   "source": [
    "##### confusion matrix"
   ]
  },
  {
   "cell_type": "code",
   "execution_count": 11,
   "id": "3bf5c51c",
   "metadata": {},
   "outputs": [
    {
     "name": "stdout",
     "output_type": "stream",
     "text": [
      "[[24  0  0]\n",
      " [ 0 22  4]\n",
      " [ 0  0 25]]\n"
     ]
    }
   ],
   "source": [
    "print(confusion_matrix(y_test,rf_y_prediction))"
   ]
  },
  {
   "cell_type": "markdown",
   "id": "106853ee",
   "metadata": {},
   "source": [
    "##### AUC"
   ]
  },
  {
   "cell_type": "code",
   "execution_count": 12,
   "id": "7ae402a8",
   "metadata": {},
   "outputs": [
    {
     "name": "stdout",
     "output_type": "stream",
     "text": [
      "AUC = 0.9931470434327577\n"
     ]
    }
   ],
   "source": [
    "rf_prob = rf_clf.predict_proba(X_test)\n",
    "\n",
    "rf_auc_score = roc_auc_score(y_test, rf_prob,multi_class='ovr')\n",
    "print('AUC =',rf_auc_score)"
   ]
  },
  {
   "cell_type": "markdown",
   "id": "45816bdc",
   "metadata": {},
   "source": [
    "##### ROC Curve"
   ]
  },
  {
   "cell_type": "code",
   "execution_count": 40,
   "id": "de13af6b",
   "metadata": {},
   "outputs": [
    {
     "data": {
      "image/png": "[encoded data removed]",
      "text/plain": [
       "<Figure size 576x396 with 1 Axes>"
      ]
     },
     "metadata": {},
     "output_type": "display_data"
    }
   ],
   "source": [
    "plot_roc(rf_prob,'Random Forest')                                                          "
   ]
  },
  {
   "cell_type": "markdown",
   "id": "b68eab60",
   "metadata": {},
   "source": [
    "## Decision Tree Model"
   ]
  },
  {
   "cell_type": "markdown",
   "id": "8a893d75",
   "metadata": {},
   "source": [
    "##### prediction"
   ]
  },
  {
   "cell_type": "code",
   "execution_count": 41,
   "id": "ca8f42c6",
   "metadata": {
    "scrolled": true
   },
   "outputs": [
    {
     "name": "stdout",
     "output_type": "stream",
     "text": [
      "Decision Tree Prediction = [3. 3. 2. 3. 1. 1. 3. 3. 3. 3. 2. 1. 3. 1. 2. 1. 3. 1. 2. 2. 1. 1. 2. 3.\n",
      " 2. 3. 1. 2. 3. 2. 2. 3. 3. 2. 1. 1. 1. 3. 1. 1. 3. 2. 1. 3. 2. 1. 3. 3.\n",
      " 3. 2. 1. 1. 3. 3. 2. 1. 2. 3. 2. 2. 3. 2. 3. 1. 2. 1. 3. 1. 2. 2. 3. 1.\n",
      " 1. 3. 2.]\n"
     ]
    }
   ],
   "source": [
    "dt_classifier=DecisionTreeClassifier(criterion='entropy',random_state=0)\n",
    "dt_classifier.fit(X_train,y_train)\n",
    "dt_y_prediction= dt_classifier.predict(X_test)\n",
    "print(\"Decision Tree Prediction =\",dt_y_prediction)"
   ]
  },
  {
   "cell_type": "code",
   "execution_count": 42,
   "id": "43cecc62",
   "metadata": {},
   "outputs": [
    {
     "name": "stdout",
     "output_type": "stream",
     "text": [
      "Decision Tree Accuracy: 0.96\n"
     ]
    }
   ],
   "source": [
    "print(\"Decision Tree Accuracy:\",metrics.accuracy_score(y_test, dt_y_prediction))"
   ]
  },
  {
   "cell_type": "code",
   "execution_count": 43,
   "id": "5ef3b0d7",
   "metadata": {},
   "outputs": [
    {
     "name": "stdout",
     "output_type": "stream",
     "text": [
      "[3.]\n"
     ]
    }
   ],
   "source": [
    "print(dt_classifier.predict([[3, 5, 4, 2]]))"
   ]
  },
  {
   "cell_type": "markdown",
   "id": "3abb3315",
   "metadata": {},
   "source": [
    "##### clasfication report"
   ]
  },
  {
   "cell_type": "code",
   "execution_count": 44,
   "id": "bc4f789b",
   "metadata": {},
   "outputs": [
    {
     "name": "stdout",
     "output_type": "stream",
     "text": [
      "              precision    recall  f1-score   support\n",
      "\n",
      "         1.0       1.00      1.00      1.00        24\n",
      "         2.0       1.00      0.88      0.94        26\n",
      "         3.0       0.89      1.00      0.94        25\n",
      "\n",
      "    accuracy                           0.96        75\n",
      "   macro avg       0.96      0.96      0.96        75\n",
      "weighted avg       0.96      0.96      0.96        75\n",
      "\n"
     ]
    }
   ],
   "source": [
    "print(classification_report(y_test,dt_y_prediction))"
   ]
  },
  {
   "cell_type": "markdown",
   "id": "4d06d24c",
   "metadata": {},
   "source": [
    "##### confusion matrix"
   ]
  },
  {
   "cell_type": "code",
   "execution_count": 45,
   "id": "1c6c71e4",
   "metadata": {},
   "outputs": [
    {
     "name": "stdout",
     "output_type": "stream",
     "text": [
      "[[24  0  0]\n",
      " [ 0 23  3]\n",
      " [ 0  0 25]]\n"
     ]
    }
   ],
   "source": [
    "print(confusion_matrix(y_test,dt_y_prediction))"
   ]
  },
  {
   "cell_type": "markdown",
   "id": "7ce52942",
   "metadata": {},
   "source": [
    "##### AUC"
   ]
  },
  {
   "cell_type": "code",
   "execution_count": 46,
   "id": "60c99090",
   "metadata": {},
   "outputs": [
    {
     "name": "stdout",
     "output_type": "stream",
     "text": [
      "AUC = 0.9707692307692307\n"
     ]
    }
   ],
   "source": [
    "dt_prob = dt_classifier.predict_proba(X_test)\n",
    "\n",
    "dt_auc_score = roc_auc_score(y_test, dt_prob,multi_class='ovr')\n",
    "print('AUC =',dt_auc_score)"
   ]
  },
  {
   "cell_type": "markdown",
   "id": "2ca983fa",
   "metadata": {},
   "source": [
    "##### ROC Curve"
   ]
  },
  {
   "cell_type": "code",
   "execution_count": 47,
   "id": "f6b93d4a",
   "metadata": {},
   "outputs": [
    {
     "data": {
      "image/png": "[encoded data removed]",
      "text/plain": [
       "<Figure size 576x396 with 1 Axes>"
      ]
     },
     "metadata": {},
     "output_type": "display_data"
    }
   ],
   "source": [
    "plot_roc(dt_prob,'Decision Tree')                                                          "
   ]
  },
  {
   "cell_type": "markdown",
   "id": "a6385c28",
   "metadata": {},
   "source": [
    "# KNN"
   ]
  },
  {
   "cell_type": "markdown",
   "id": "80d81072",
   "metadata": {},
   "source": [
    "##### prediction"
   ]
  },
  {
   "cell_type": "code",
   "execution_count": 48,
   "id": "3ba53d6f",
   "metadata": {},
   "outputs": [
    {
     "name": "stdout",
     "output_type": "stream",
     "text": [
      "KNN Prediction = [3. 3. 2. 3. 1. 1. 3. 3. 3. 3. 2. 1. 3. 1. 2. 1. 3. 1. 2. 2. 1. 1. 2. 3.\n",
      " 2. 3. 1. 2. 3. 2. 2. 3. 3. 2. 1. 1. 1. 2. 1. 1. 3. 2. 1. 3. 2. 1. 3. 3.\n",
      " 3. 2. 1. 1. 3. 3. 2. 1. 2. 3. 2. 2. 3. 2. 3. 1. 2. 1. 3. 1. 2. 2. 3. 1.\n",
      " 1. 3. 2.]\n"
     ]
    }
   ],
   "source": [
    "knn_classifier = KNeighborsClassifier(n_neighbors=6,metric='minkowski',p=2)\n",
    "knn_classifier.fit(X_train,y_train)\n",
    "knn_y_prediction = knn_classifier.predict(X_test)\n",
    "print(\"KNN Prediction =\",knn_y_prediction)"
   ]
  },
  {
   "cell_type": "code",
   "execution_count": 49,
   "id": "75d0e041",
   "metadata": {},
   "outputs": [
    {
     "name": "stdout",
     "output_type": "stream",
     "text": [
      "KNN Accuracy: 0.9733333333333334\n"
     ]
    }
   ],
   "source": [
    "print(\"KNN Accuracy:\",metrics.accuracy_score(y_test, knn_y_prediction))"
   ]
  },
  {
   "cell_type": "code",
   "execution_count": 50,
   "id": "870536d0",
   "metadata": {},
   "outputs": [
    {
     "name": "stdout",
     "output_type": "stream",
     "text": [
      "[2.]\n"
     ]
    }
   ],
   "source": [
    "print(knn_classifier.predict([[3, 5, 4, 2]]))"
   ]
  },
  {
   "cell_type": "markdown",
   "id": "f184bf73",
   "metadata": {},
   "source": [
    "##### clasfication report"
   ]
  },
  {
   "cell_type": "code",
   "execution_count": 51,
   "id": "f1eb8b03",
   "metadata": {},
   "outputs": [
    {
     "name": "stdout",
     "output_type": "stream",
     "text": [
      "              precision    recall  f1-score   support\n",
      "\n",
      "         1.0       1.00      1.00      1.00        24\n",
      "         2.0       1.00      0.92      0.96        26\n",
      "         3.0       0.93      1.00      0.96        25\n",
      "\n",
      "    accuracy                           0.97        75\n",
      "   macro avg       0.98      0.97      0.97        75\n",
      "weighted avg       0.98      0.97      0.97        75\n",
      "\n"
     ]
    }
   ],
   "source": [
    "print(classification_report(y_test,knn_y_prediction))"
   ]
  },
  {
   "cell_type": "markdown",
   "id": "4cdca3a8",
   "metadata": {},
   "source": [
    "##### confusion matrix"
   ]
  },
  {
   "cell_type": "code",
   "execution_count": 52,
   "id": "39cd8e89",
   "metadata": {},
   "outputs": [
    {
     "name": "stdout",
     "output_type": "stream",
     "text": [
      "[[24  0  0]\n",
      " [ 0 24  2]\n",
      " [ 0  0 25]]\n"
     ]
    }
   ],
   "source": [
    "print(confusion_matrix(y_test,knn_y_prediction))"
   ]
  },
  {
   "cell_type": "markdown",
   "id": "701c6aa5",
   "metadata": {},
   "source": [
    "##### AUC"
   ]
  },
  {
   "cell_type": "code",
   "execution_count": 53,
   "id": "294035e0",
   "metadata": {},
   "outputs": [
    {
     "name": "stdout",
     "output_type": "stream",
     "text": [
      "AUC = 0.989992255363684\n"
     ]
    }
   ],
   "source": [
    "knn_prob = knn_classifier.predict_proba(X_test)\n",
    "\n",
    "knn_auc_score = roc_auc_score(y_test, knn_prob,multi_class='ovr')\n",
    "print('AUC =',knn_auc_score)"
   ]
  },
  {
   "cell_type": "markdown",
   "id": "dff96bd9",
   "metadata": {},
   "source": [
    "##### ROC Curve"
   ]
  },
  {
   "cell_type": "code",
   "execution_count": 54,
   "id": "282a7de8",
   "metadata": {
    "scrolled": true
   },
   "outputs": [
    {
     "data": {
      "image/png": "[encoded data removed]",
      "text/plain": [
       "<Figure size 576x396 with 1 Axes>"
      ]
     },
     "metadata": {},
     "output_type": "display_data"
    }
   ],
   "source": [
    "plot_roc(knn_prob,'KNN')                                                          "
   ]
  },
  {
   "cell_type": "markdown",
   "id": "cca89a99",
   "metadata": {},
   "source": [
    "# Logistic Regression"
   ]
  },
  {
   "cell_type": "markdown",
   "id": "5f6cc52e",
   "metadata": {},
   "source": [
    "##### prediction"
   ]
  },
  {
   "cell_type": "code",
   "execution_count": 55,
   "id": "8f4a8a35",
   "metadata": {},
   "outputs": [
    {
     "name": "stdout",
     "output_type": "stream",
     "text": [
      "Logistic Regression = [3. 3. 2. 3. 1. 1. 3. 3. 3. 3. 2. 1. 3. 1. 2. 1. 3. 1. 2. 2. 1. 1. 2. 3.\n",
      " 2. 3. 1. 3. 3. 2. 2. 3. 3. 2. 1. 1. 1. 3. 1. 1. 3. 3. 1. 3. 2. 1. 3. 3.\n",
      " 3. 2. 1. 1. 3. 3. 2. 1. 2. 3. 2. 3. 3. 2. 3. 1. 2. 1. 3. 1. 2. 2. 3. 1.\n",
      " 1. 3. 2.]\n"
     ]
    }
   ],
   "source": [
    "lr_classifier=LogisticRegression(multi_class='ovr')\n",
    "lr_classifier.fit(X_train,y_train)\n",
    "lr_y_prediction = lr_classifier.predict(X_test)\n",
    "print(\"Logistic Regression =\",lr_y_prediction)"
   ]
  },
  {
   "cell_type": "code",
   "execution_count": 56,
   "id": "711b1050",
   "metadata": {},
   "outputs": [
    {
     "name": "stdout",
     "output_type": "stream",
     "text": [
      "Logistic Regression Accuracy: 0.92\n"
     ]
    }
   ],
   "source": [
    "print(\"Logistic Regression Accuracy:\",metrics.accuracy_score(y_test, lr_y_prediction))"
   ]
  },
  {
   "cell_type": "code",
   "execution_count": 57,
   "id": "f46ef13e",
   "metadata": {},
   "outputs": [
    {
     "name": "stdout",
     "output_type": "stream",
     "text": [
      "[3.]\n"
     ]
    }
   ],
   "source": [
    "print(lr_classifier.predict([[3, 5, 4, 2]]))"
   ]
  },
  {
   "cell_type": "markdown",
   "id": "54fa07a6",
   "metadata": {},
   "source": [
    "##### clasfication report"
   ]
  },
  {
   "cell_type": "code",
   "execution_count": 58,
   "id": "33e211b7",
   "metadata": {},
   "outputs": [
    {
     "name": "stdout",
     "output_type": "stream",
     "text": [
      "              precision    recall  f1-score   support\n",
      "\n",
      "         1.0       1.00      1.00      1.00        24\n",
      "         2.0       1.00      0.77      0.87        26\n",
      "         3.0       0.81      1.00      0.89        25\n",
      "\n",
      "    accuracy                           0.92        75\n",
      "   macro avg       0.94      0.92      0.92        75\n",
      "weighted avg       0.94      0.92      0.92        75\n",
      "\n"
     ]
    }
   ],
   "source": [
    "print(classification_report(y_test,lr_y_prediction))"
   ]
  },
  {
   "cell_type": "markdown",
   "id": "a468c7f3",
   "metadata": {},
   "source": [
    "##### confusion matrix"
   ]
  },
  {
   "cell_type": "code",
   "execution_count": 59,
   "id": "b3fb999d",
   "metadata": {},
   "outputs": [
    {
     "name": "stdout",
     "output_type": "stream",
     "text": [
      "[[24  0  0]\n",
      " [ 0 20  6]\n",
      " [ 0  0 25]]\n"
     ]
    }
   ],
   "source": [
    "print(confusion_matrix(y_test,lr_y_prediction))"
   ]
  },
  {
   "cell_type": "markdown",
   "id": "f7eac30a",
   "metadata": {},
   "source": [
    "##### AUC"
   ]
  },
  {
   "cell_type": "code",
   "execution_count": 60,
   "id": "67961ea6",
   "metadata": {},
   "outputs": [
    {
     "name": "stdout",
     "output_type": "stream",
     "text": [
      "AUC = 0.9902287807430664\n"
     ]
    }
   ],
   "source": [
    "lr_prob = lr_classifier.predict_proba(X_test)\n",
    "lr_auc_score = roc_auc_score(y_test, lr_prob,multi_class='ovr')\n",
    "print('AUC =',lr_auc_score)"
   ]
  },
  {
   "cell_type": "markdown",
   "id": "a972f214",
   "metadata": {},
   "source": [
    "##### ROC Curve"
   ]
  },
  {
   "cell_type": "code",
   "execution_count": 61,
   "id": "662efdcc",
   "metadata": {},
   "outputs": [
    {
     "data": {
      "image/png": "[encoded data removed]",
      "text/plain": [
       "<Figure size 576x396 with 1 Axes>"
      ]
     },
     "metadata": {},
     "output_type": "display_data"
    }
   ],
   "source": [
    "plot_roc(lr_prob,'Logistic Regression')     "
   ]
  },
  {
   "cell_type": "markdown",
   "id": "41a010e9",
   "metadata": {},
   "source": [
    "# Linear Discriminant Analysis"
   ]
  },
  {
   "cell_type": "markdown",
   "id": "a01f7c9c",
   "metadata": {},
   "source": [
    "##### prediction"
   ]
  },
  {
   "cell_type": "code",
   "execution_count": 62,
   "id": "b9a9a0db",
   "metadata": {},
   "outputs": [
    {
     "name": "stdout",
     "output_type": "stream",
     "text": [
      "Linear Discriminant Analysis = [3. 3. 2. 3. 1. 1. 3. 3. 3. 3. 2. 1. 3. 1. 2. 1. 3. 1. 2. 2. 1. 1. 2. 3.\n",
      " 2. 3. 1. 3. 3. 2. 2. 3. 3. 2. 1. 1. 1. 3. 1. 1. 3. 3. 1. 3. 2. 1. 3. 3.\n",
      " 3. 2. 1. 1. 3. 3. 2. 1. 2. 3. 2. 3. 3. 2. 3. 1. 2. 1. 3. 1. 2. 2. 3. 1.\n",
      " 1. 3. 2.]\n"
     ]
    }
   ],
   "source": [
    "lda_classifier = LinearDiscriminantAnalysis()\n",
    "lda_classifier.fit(X_train,y_train)\n",
    "lda_y_prediction = lda_classifier.predict(X_test)\n",
    "print(\"Linear Discriminant Analysis =\",lr_y_prediction)"
   ]
  },
  {
   "cell_type": "code",
   "execution_count": 63,
   "id": "524f537a",
   "metadata": {},
   "outputs": [
    {
     "name": "stdout",
     "output_type": "stream",
     "text": [
      "Linear Discriminant Analysis Accuracy: 0.9733333333333334\n"
     ]
    }
   ],
   "source": [
    "print(\"Linear Discriminant Analysis Accuracy:\",metrics.accuracy_score(y_test, lda_y_prediction))"
   ]
  },
  {
   "cell_type": "code",
   "execution_count": 64,
   "id": "3d1ac551",
   "metadata": {},
   "outputs": [
    {
     "name": "stdout",
     "output_type": "stream",
     "text": [
      "[3.]\n"
     ]
    }
   ],
   "source": [
    "print(lda_classifier.predict([[3, 5, 4, 2]]))"
   ]
  },
  {
   "cell_type": "markdown",
   "id": "0e76fdce",
   "metadata": {},
   "source": [
    "##### clasfication report"
   ]
  },
  {
   "cell_type": "code",
   "execution_count": 65,
   "id": "41f7e97a",
   "metadata": {
    "scrolled": true
   },
   "outputs": [
    {
     "name": "stdout",
     "output_type": "stream",
     "text": [
      "              precision    recall  f1-score   support\n",
      "\n",
      "         1.0       1.00      1.00      1.00        24\n",
      "         2.0       1.00      0.92      0.96        26\n",
      "         3.0       0.93      1.00      0.96        25\n",
      "\n",
      "    accuracy                           0.97        75\n",
      "   macro avg       0.98      0.97      0.97        75\n",
      "weighted avg       0.98      0.97      0.97        75\n",
      "\n"
     ]
    }
   ],
   "source": [
    "print(classification_report(y_test,lda_y_prediction))"
   ]
  },
  {
   "cell_type": "markdown",
   "id": "ac0e6944",
   "metadata": {},
   "source": [
    "##### confusion matrix"
   ]
  },
  {
   "cell_type": "code",
   "execution_count": 66,
   "id": "5791e0d5",
   "metadata": {},
   "outputs": [
    {
     "name": "stdout",
     "output_type": "stream",
     "text": [
      "[[24  0  0]\n",
      " [ 0 24  2]\n",
      " [ 0  0 25]]\n"
     ]
    }
   ],
   "source": [
    "print(confusion_matrix(y_test,lda_y_prediction))"
   ]
  },
  {
   "cell_type": "markdown",
   "id": "b45e12e5",
   "metadata": {},
   "source": [
    "##### AUC"
   ]
  },
  {
   "cell_type": "code",
   "execution_count": 67,
   "id": "687a531a",
   "metadata": {},
   "outputs": [
    {
     "name": "stdout",
     "output_type": "stream",
     "text": [
      "AUC = 0.9978867608581895\n"
     ]
    }
   ],
   "source": [
    "lda_prob = lda_classifier.predict_proba(X_test)\n",
    "lda_auc_score = roc_auc_score(y_test, lda_prob,multi_class='ovr')\n",
    "print('AUC =',lda_auc_score)"
   ]
  },
  {
   "cell_type": "markdown",
   "id": "c13f4d32",
   "metadata": {},
   "source": [
    "##### ROC Curve"
   ]
  },
  {
   "cell_type": "code",
   "execution_count": 68,
   "id": "435acecf",
   "metadata": {},
   "outputs": [
    {
     "data": {
      "image/png": "[encoded data removed]",
      "text/plain": [
       "<Figure size 576x396 with 1 Axes>"
      ]
     },
     "metadata": {},
     "output_type": "display_data"
    }
   ],
   "source": [
    "plot_roc(lda_prob,'Linear Discriminant Analysis')     "
   ]
  },
  {
   "cell_type": "markdown",
   "id": "79c5f985",
   "metadata": {},
   "source": [
    "# Quadratic Discriminant Analysis"
   ]
  },
  {
   "cell_type": "markdown",
   "id": "b2a0d0d7",
   "metadata": {},
   "source": [
    "##### prediction"
   ]
  },
  {
   "cell_type": "code",
   "execution_count": 69,
   "id": "e53f67a8",
   "metadata": {},
   "outputs": [
    {
     "name": "stdout",
     "output_type": "stream",
     "text": [
      "Quadratic Discriminant Analysis = [3. 3. 2. 3. 1. 1. 3. 3. 3. 3. 3. 1. 3. 1. 2. 1. 3. 1. 2. 3. 1. 1. 2. 3.\n",
      " 2. 3. 1. 2. 3. 2. 2. 3. 3. 2. 1. 1. 1. 2. 1. 1. 3. 2. 1. 3. 2. 1. 3. 3.\n",
      " 3. 2. 1. 1. 3. 3. 2. 1. 2. 3. 2. 2. 3. 2. 3. 1. 2. 1. 3. 1. 2. 2. 3. 1.\n",
      " 1. 3. 2.]\n"
     ]
    }
   ],
   "source": [
    "qda_classifier = QuadraticDiscriminantAnalysis()\n",
    "qda_classifier.fit(X_train,y_train)\n",
    "qda_y_prediction = qda_classifier.predict(X_test)\n",
    "print(\"Quadratic Discriminant Analysis =\",qda_y_prediction)"
   ]
  },
  {
   "cell_type": "code",
   "execution_count": 70,
   "id": "78cb4dd9",
   "metadata": {},
   "outputs": [
    {
     "name": "stdout",
     "output_type": "stream",
     "text": [
      "Quadratic Discriminant Analysis Accuracy: 0.9466666666666667\n"
     ]
    }
   ],
   "source": [
    "print(\"Quadratic Discriminant Analysis Accuracy:\",metrics.accuracy_score(y_test, qda_y_prediction))"
   ]
  },
  {
   "cell_type": "code",
   "execution_count": 71,
   "id": "423868a7",
   "metadata": {},
   "outputs": [
    {
     "name": "stdout",
     "output_type": "stream",
     "text": [
      "[3.]\n"
     ]
    }
   ],
   "source": [
    "print(qda_classifier.predict([[3, 5, 4, 2]]))"
   ]
  },
  {
   "cell_type": "markdown",
   "id": "930874c7",
   "metadata": {},
   "source": [
    "##### clasfication report"
   ]
  },
  {
   "cell_type": "code",
   "execution_count": 72,
   "id": "40fe1944",
   "metadata": {},
   "outputs": [
    {
     "name": "stdout",
     "output_type": "stream",
     "text": [
      "              precision    recall  f1-score   support\n",
      "\n",
      "         1.0       1.00      1.00      1.00        24\n",
      "         2.0       1.00      0.85      0.92        26\n",
      "         3.0       0.86      1.00      0.93        25\n",
      "\n",
      "    accuracy                           0.95        75\n",
      "   macro avg       0.95      0.95      0.95        75\n",
      "weighted avg       0.95      0.95      0.95        75\n",
      "\n"
     ]
    }
   ],
   "source": [
    "print(classification_report(y_test,qda_y_prediction))"
   ]
  },
  {
   "cell_type": "markdown",
   "id": "c1327514",
   "metadata": {},
   "source": [
    "##### confusion matrix"
   ]
  },
  {
   "cell_type": "code",
   "execution_count": 73,
   "id": "42041d38",
   "metadata": {},
   "outputs": [
    {
     "name": "stdout",
     "output_type": "stream",
     "text": [
      "[[24  0  0]\n",
      " [ 0 22  4]\n",
      " [ 0  0 25]]\n"
     ]
    }
   ],
   "source": [
    "print(confusion_matrix(y_test,qda_y_prediction))"
   ]
  },
  {
   "cell_type": "markdown",
   "id": "5b87f8a2",
   "metadata": {},
   "source": [
    "##### AUC"
   ]
  },
  {
   "cell_type": "code",
   "execution_count": 74,
   "id": "12e247f0",
   "metadata": {},
   "outputs": [
    {
     "name": "stdout",
     "output_type": "stream",
     "text": [
      "AUC = 0.9989433804290947\n"
     ]
    }
   ],
   "source": [
    "qda_prob = qda_classifier.predict_proba(X_test)\n",
    "qda_auc_score = roc_auc_score(y_test, qda_prob,multi_class='ovr')\n",
    "print('AUC =',qda_auc_score)"
   ]
  },
  {
   "cell_type": "markdown",
   "id": "b98adba0",
   "metadata": {},
   "source": [
    "##### ROC Curve"
   ]
  },
  {
   "cell_type": "code",
   "execution_count": 75,
   "id": "c69d5959",
   "metadata": {},
   "outputs": [
    {
     "data": {
      "image/png": "[encoded data removed]",
      "text/plain": [
       "<Figure size 576x396 with 1 Axes>"
      ]
     },
     "metadata": {},
     "output_type": "display_data"
    }
   ],
   "source": [
    "plot_roc(qda_prob,'Quadratic Discriminant Analysis')     "
   ]
  },
  {
   "cell_type": "markdown",
   "id": "d3407a2d",
   "metadata": {},
   "source": [
    "# Boosting Algorithm "
   ]
  },
  {
   "cell_type": "markdown",
   "id": "66ebdd41",
   "metadata": {},
   "source": [
    "##### prediction"
   ]
  },
  {
   "cell_type": "code",
   "execution_count": 76,
   "id": "6efdc1c9",
   "metadata": {},
   "outputs": [
    {
     "name": "stdout",
     "output_type": "stream",
     "text": [
      "Boosting Algorithm = [3. 3. 2. 3. 1. 1. 3. 3. 3. 3. 2. 1. 3. 1. 2. 1. 3. 1. 2. 2. 1. 1. 2. 3.\n",
      " 2. 3. 1. 2. 3. 2. 2. 3. 3. 2. 1. 1. 1. 3. 1. 1. 3. 2. 1. 3. 2. 1. 3. 3.\n",
      " 3. 2. 1. 1. 3. 3. 2. 1. 2. 3. 2. 2. 3. 2. 3. 1. 2. 1. 3. 1. 2. 2. 3. 1.\n",
      " 1. 3. 2.]\n"
     ]
    }
   ],
   "source": [
    "boost_classifier = AdaBoostClassifier(n_estimators=50, random_state=0)\n",
    "boost_classifier.fit(X_train,y_train)\n",
    "boost_y_prediction = boost_classifier.predict(X_test)\n",
    "print(\"Boosting Algorithm =\",boost_y_prediction)"
   ]
  },
  {
   "cell_type": "code",
   "execution_count": 77,
   "id": "8148d9d2",
   "metadata": {},
   "outputs": [
    {
     "name": "stdout",
     "output_type": "stream",
     "text": [
      "Boosting Algorithm Accuracy : 0.96\n"
     ]
    }
   ],
   "source": [
    "print(\"Boosting Algorithm Accuracy :\",metrics.accuracy_score(y_test, boost_y_prediction))"
   ]
  },
  {
   "cell_type": "code",
   "execution_count": 236,
   "id": "e69d9d04",
   "metadata": {},
   "outputs": [
    {
     "name": "stdout",
     "output_type": "stream",
     "text": [
      "[3.]\n"
     ]
    }
   ],
   "source": [
    "print(boost_classifier.predict([[3, 5, 4, 2]]))"
   ]
  },
  {
   "cell_type": "markdown",
   "id": "28d641c6",
   "metadata": {},
   "source": [
    "##### clasfication report"
   ]
  },
  {
   "cell_type": "code",
   "execution_count": 78,
   "id": "d17c911a",
   "metadata": {},
   "outputs": [
    {
     "name": "stdout",
     "output_type": "stream",
     "text": [
      "              precision    recall  f1-score   support\n",
      "\n",
      "         1.0       1.00      1.00      1.00        24\n",
      "         2.0       1.00      0.88      0.94        26\n",
      "         3.0       0.89      1.00      0.94        25\n",
      "\n",
      "    accuracy                           0.96        75\n",
      "   macro avg       0.96      0.96      0.96        75\n",
      "weighted avg       0.96      0.96      0.96        75\n",
      "\n"
     ]
    }
   ],
   "source": [
    "print(classification_report(y_test,boost_y_prediction))"
   ]
  },
  {
   "cell_type": "markdown",
   "id": "27d90f0b",
   "metadata": {},
   "source": [
    "##### confusion matrix"
   ]
  },
  {
   "cell_type": "code",
   "execution_count": 79,
   "id": "f762af89",
   "metadata": {},
   "outputs": [
    {
     "name": "stdout",
     "output_type": "stream",
     "text": [
      "[[24  0  0]\n",
      " [ 0 23  3]\n",
      " [ 0  0 25]]\n"
     ]
    }
   ],
   "source": [
    "print(confusion_matrix(y_test,boost_y_prediction))"
   ]
  },
  {
   "cell_type": "markdown",
   "id": "c05e2150",
   "metadata": {},
   "source": [
    "##### AUC"
   ]
  },
  {
   "cell_type": "code",
   "execution_count": 80,
   "id": "d12260e1",
   "metadata": {},
   "outputs": [
    {
     "name": "stdout",
     "output_type": "stream",
     "text": [
      "AUC = 0.985003453689168\n"
     ]
    }
   ],
   "source": [
    "boost_prob = boost_classifier.predict_proba(X_test)\n",
    "boost_auc_score = roc_auc_score(y_test, boost_prob,multi_class='ovr')\n",
    "print('AUC =',boost_auc_score)"
   ]
  },
  {
   "cell_type": "markdown",
   "id": "a7a53e8e",
   "metadata": {},
   "source": [
    "##### ROC Curve"
   ]
  },
  {
   "cell_type": "code",
   "execution_count": 81,
   "id": "1e357a15",
   "metadata": {},
   "outputs": [
    {
     "data": {
      "image/png": "[encoded data removed]",
      "text/plain": [
       "<Figure size 576x396 with 1 Axes>"
      ]
     },
     "metadata": {},
     "output_type": "display_data"
    }
   ],
   "source": [
    "plot_roc(boost_prob,'Boosting Algorithm')     "
   ]
  },
  {
   "cell_type": "markdown",
   "id": "cca9e83f",
   "metadata": {},
   "source": [
    "# Best Classifier"
   ]
  },
  {
   "cell_type": "code",
   "execution_count": 82,
   "id": "b4ceb394",
   "metadata": {},
   "outputs": [
    {
     "name": "stdout",
     "output_type": "stream",
     "text": [
      "Accuracy\n",
      "-------------------\n",
      "RF                  = 0.9466666666666667\n",
      "DT                  = 0.96\n",
      "KNN                 = 0.9733333333333334\n",
      "LR                  = 0.92\n",
      "LDA                 = 0.9733333333333334\n",
      "BA                  = 0.96\n",
      "QDA                 = 0.9466666666666667\n",
      "\n",
      "\n",
      "AUC\n",
      "-------------------\n",
      "RF                  = 0.9931470434327577\n",
      "DT                  = 0.9707692307692307\n",
      "KNN                 = 0.989992255363684\n",
      "LR                  = 0.9902287807430664\n",
      "LDA                 = 0.9978867608581895\n",
      "QDA                 = 0.9989433804290947\n",
      "BA                  = 0.985003453689168\n"
     ]
    }
   ],
   "source": [
    "print(\"Accuracy\")\n",
    "print(\"-------------------\")\n",
    "print(\"RF                  =\",metrics.accuracy_score(y_test, rf_y_prediction))\n",
    "print(\"DT                  =\",metrics.accuracy_score(y_test, dt_y_prediction))\n",
    "print(\"KNN                 =\",metrics.accuracy_score(y_test, knn_y_prediction))\n",
    "print(\"LR                  =\",metrics.accuracy_score(y_test, lr_y_prediction))\n",
    "print(\"LDA                 =\",metrics.accuracy_score(y_test, lda_y_prediction))\n",
    "print(\"BA                  =\",metrics.accuracy_score(y_test, boost_y_prediction))\n",
    "print(\"QDA                 =\",metrics.accuracy_score(y_test, qda_y_prediction))\n",
    "print(\"\\n\")\n",
    "print(\"AUC\")\n",
    "print(\"-------------------\")\n",
    "print('RF                  =',rf_auc_score)\n",
    "print('DT                  =',dt_auc_score)\n",
    "print('KNN                 =',knn_auc_score)\n",
    "print('LR                  =',lr_auc_score)\n",
    "print('LDA                 =',lda_auc_score)\n",
    "print('QDA                 =',qda_auc_score)\n",
    "print('BA                  =',boost_auc_score)\n"
   ]
  },
  {
   "cell_type": "markdown",
   "id": "c75cddef",
   "metadata": {},
   "source": [
    "# I will choose Linear Discriminant Analysis Model as a final model as it has highest accuracy(97.3 %) and auc(99.7%)"
   ]
  },
  {
   "cell_type": "code",
   "execution_count": null,
   "id": "ba33cc86",
   "metadata": {},
   "outputs": [],
   "source": []
  }
 ],
 "metadata": {
  "kernelspec": {
   "display_name": "Python 3 (ipykernel)",
   "language": "python",
   "name": "python3"
  },
  "language_info": {
   "codemirror_mode": {
    "name": "ipython",
    "version": 3
   },
   "file_extension": ".py",
   "mimetype": "text/x-python",
   "name": "python",
   "nbconvert_exporter": "python",
   "pygments_lexer": "ipython3",
   "version": "3.9.7"
  }
 },
 "nbformat": 4,
 "nbformat_minor": 5
}
